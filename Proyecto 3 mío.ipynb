{
 "cells": [
  {
   "cell_type": "code",
   "execution_count": 1,
   "id": "c24f322a",
   "metadata": {},
   "outputs": [],
   "source": [
    "import pandas as pd\n",
    "import numpy as np\n",
    "from sklearn.linear_model import LogisticRegression\n",
    "from sklearn.svm import SVC\n",
    "import xgboost as xgboost\n",
    "from sklearn.metrics import accuracy_score, confusion_matrix\n",
    "from scipy.optimize import minimize\n"
   ]
  },
  {
   "cell_type": "code",
   "execution_count": 2,
   "id": "fc274956",
   "metadata": {},
   "outputs": [],
   "source": [
    "#1. Data Loading\n",
    "# Load the datasets\n",
    "train_data = pd.read_csv('aapl_5m_train.csv')\n",
    "validation_data = pd.read_csv('aapl_5m_validation.csv')\n",
    "\n",
    "\n",
    "#2. Feature Engineering\n",
    "# Calculate moving averages\n",
    "train_data['MA5'] = train_data['Close'].rolling(window=5).mean()\n",
    "train_data['MA10'] = train_data['Close'].rolling(window=10).mean()\n",
    "\n",
    "# Define target variable: 1 if the next close is higher than the current close, else 0\n",
    "train_data['Target'] = (train_data['Close'].shift(-1) > train_data['Close']).astype(int)\n",
    "\n",
    "# Drop NA values\n",
    "train_data.dropna(inplace=True)\n",
    "\n",
    "# Define independent variables and target variable\n",
    "X = train_data[['MA5', 'MA10']]\n",
    "Y = train_data['Target']"
   ]
  },
  {
   "cell_type": "code",
   "execution_count": 3,
   "id": "997076f6",
   "metadata": {},
   "outputs": [
    {
     "name": "stdout",
     "output_type": "stream",
     "text": [
      "[[6084 3765]\n",
      " [4031 5643]]\n",
      "[[9849    0]\n",
      " [9674    0]]\n",
      "0.6006761255954515\n"
     ]
    }
   ],
   "source": [
    "#3. Modeling\n",
    "# Logistic Regression\n",
    "log_reg = LogisticRegression()\n",
    "log_reg.fit(X, Y)\n",
    "y_hat = log_reg.predict(X)\n",
    "\n",
    "# SVC\n",
    "svc = SVC()\n",
    "svc.fit(X, Y)\n",
    "\n",
    "# XGBoost\n",
    "boosted_model = xgboost.XGBClassifier()\n",
    "boosted_model.fit(X, Y)\n",
    "y_hat_boost = boosted_model.predict(X)\n",
    "\n",
    "print(confusion_matrix(Y, y_hat_boost))\n",
    "print(confusion_matrix(Y, y_hat))\n",
    "print(accuracy_score(Y, y_hat_boost))"
   ]
  },
  {
   "cell_type": "code",
   "execution_count": 4,
   "id": "20f8cb19",
   "metadata": {},
   "outputs": [
    {
     "name": "stdout",
     "output_type": "stream",
     "text": [
      " final_simplex: (array([[0.00000000e+00, 1.00000000e-03],\n",
      "       [5.96046448e-11, 1.00000000e-03],\n",
      "       [0.00000000e+00, 1.00000001e-03]]), array([-0.51805563, -0.51805563, -0.51805563]))\n",
      "           fun: -0.5180556266967167\n",
      "       message: 'Optimization terminated successfully.'\n",
      "          nfev: 91\n",
      "           nit: 23\n",
      "        status: 0\n",
      "       success: True\n",
      "             x: array([0.   , 0.001])\n",
      "[0.    0.001]\n",
      "[[5252 4597]\n",
      " [4254 5420]]\n"
     ]
    }
   ],
   "source": [
    "#4. Optimization\n",
    "def optimize_params(x: np.array) -> float:\n",
    "    gamma, reg_alpha = x  # Unpack parameters\n",
    "    n_estimators = 1\n",
    "    model_ = xgboost.XGBClassifier(n_estimators=n_estimators,\n",
    "                                   gamma=gamma,\n",
    "                                   reg_alpha=reg_alpha,\n",
    "                                   reg_lambda=reg_alpha)\n",
    "    model_.fit(X, Y)\n",
    "    y_pred = model_.predict(X)\n",
    "    acc = accuracy_score(Y, y_pred)\n",
    "    return -acc\n",
    "\n",
    "bnds = ((0, 10), (1e-4, 10))\n",
    "x0 = [0, 1e-3]\n",
    "res = minimize(optimize_params, bounds=bnds, x0=x0, method=\"Nelder-Mead\", tol=1e-10)\n",
    "print(res)\n",
    "print(res.x)\n",
    "\n",
    "opt_model = xgboost.XGBClassifier(n_estimators=10,\n",
    "                                  gamma=res.x[0],\n",
    "                                  reg_alpha=res.x[1],\n",
    "                                  reg_lambda=res.x[1])\n",
    "opt_model.fit(X, Y)\n",
    "print(confusion_matrix(Y, opt_model.predict(X)))\n"
   ]
  },
  {
   "cell_type": "code",
   "execution_count": 5,
   "id": "58c89de6",
   "metadata": {},
   "outputs": [],
   "source": [
    "#5. Combination of Models\n",
    "def combine_predictions(preds):\n",
    "    \"\"\"Combine predictions using majority voting.\"\"\"\n",
    "    combined = sum(preds)\n",
    "    # If 2 or more models predict 1, return 1. Otherwise, return 0.\n",
    "    return 1 if combined >= 2 else 0\n",
    "\n",
    "# Predictions from each model\n",
    "y_hat_lr = log_reg.predict(X)\n",
    "y_hat_svc = svc.predict(X)\n",
    "y_hat_xgb = opt_model.predict(X)\n",
    "\n",
    "# Combine predictions\n",
    "combined_predictions = [combine_predictions([y_hat_lr[i], y_hat_svc[i], y_hat_xgb[i]]) for i in range(len(y_hat_lr))]\n"
   ]
  },
  {
   "cell_type": "code",
   "execution_count": 9,
   "id": "98444769",
   "metadata": {},
   "outputs": [],
   "source": [
    "#6. Backtesting\n",
    "initial_cash = 1000000  # Starting cash\n",
    "cash = initial_cash\n",
    "stock = 0\n",
    "portfolio_values = []\n",
    "\n",
    "for i in range(len(train_data) - 1):\n",
    "    # Buy signal\n",
    "    if combined_predictions[i] == 1 and cash >= train_data['Close'].iloc[i]:\n",
    "        stock += 1\n",
    "        cash -= train_data['Close'].iloc[i]\n",
    "    # Sell signal\n",
    "    elif combined_predictions[i] == 0 and stock > 0:\n",
    "        stock -= 1\n",
    "        cash += train_data['Close'].iloc[i]\n",
    "    portfolio_values.append(cash + stock * train_data['Close'].iloc[i])\n",
    "\n",
    "# Append final portfolio value\n",
    "portfolio_values.append(cash + stock * train_data['Close'].iloc[-1])\n"
   ]
  },
  {
   "cell_type": "code",
   "execution_count": 7,
   "id": "1b0857cc",
   "metadata": {},
   "outputs": [],
   "source": [
    "#7. Strategy Selection & Validation\n",
    "# Feature engineering for validation data\n",
    "validation_data['MA5'] = validation_data['Close'].rolling(window=5).mean()\n",
    "validation_data['MA10'] = validation_data['Close'].rolling(window=10).mean()\n",
    "validation_data.dropna(inplace=True)\n",
    "X_val = validation_data[['MA5', 'MA10']]\n",
    "\n",
    "# Predictions on validation data\n",
    "y_hat_val_lr = log_reg.predict(X_val)\n",
    "y_hat_val_svc = svc.predict(X_val)\n",
    "y_hat_val_xgb = opt_model.predict(X_val)\n",
    "\n",
    "# Combine predictions\n",
    "combined_predictions_val = [combine_predictions([y_hat_val_lr[i], y_hat_val_svc[i], y_hat_val_xgb[i]]) for i in range(len(y_hat_val_lr))]\n",
    "\n",
    "# Backtest on validation data\n",
    "cash = initial_cash\n",
    "stock = 0\n",
    "portfolio_values_val = []\n",
    "\n",
    "for i in range(len(validation_data) - 1):\n",
    "    if combined_predictions_val[i] == 1 and cash >= validation_data['Close'].iloc[i]:\n",
    "        stock += 1\n",
    "        cash -= validation_data['Close'].iloc[i]\n",
    "    elif combined_predictions_val[i] == 0 and stock > 0:\n",
    "        stock -= 1\n",
    "        cash += validation_data['Close'].iloc[i]\n",
    "    portfolio_values_val.append(cash + stock * validation_data['Close'].iloc[i])\n",
    "\n",
    "portfolio_values_val.append(cash + stock * validation_data['Close'].iloc[-1])\n"
   ]
  },
  {
   "cell_type": "code",
   "execution_count": 8,
   "id": "179f4774",
   "metadata": {},
   "outputs": [
    {
     "data": {
      "image/png": "[encoded data removed]",
      "text/plain": [
       "<Figure size 1008x504 with 1 Axes>"
      ]
     },
     "metadata": {
      "needs_background": "light"
     },
     "output_type": "display_data"
    }
   ],
   "source": [
    "#8. Results & Conclusions\n",
    "import matplotlib.pyplot as plt\n",
    "\n",
    "# Plot portfolio values for training data\n",
    "plt.figure(figsize=(14, 7))\n",
    "plt.plot(portfolio_values, label=\"Training Data Portfolio Value\")\n",
    "plt.plot(portfolio_values_val, label=\"Validation Data Portfolio Value\", color='orange')\n",
    "plt.title(\"Portfolio Value Over Time\")\n",
    "plt.xlabel(\"Time\")\n",
    "plt.ylabel(\"Portfolio Value\")\n",
    "plt.legend()\n",
    "plt.grid(True)\n",
    "plt.show()\n"
   ]
  },
  {
   "cell_type": "code",
   "execution_count": null,
   "id": "0fe4d980",
   "metadata": {},
   "outputs": [],
   "source": []
  },
  {
   "cell_type": "code",
   "execution_count": null,
   "id": "4d2117d1",
   "metadata": {},
   "outputs": [],
   "source": []
  }
 ],
 "metadata": {
  "kernelspec": {
   "display_name": "Python 3 (ipykernel)",
   "language": "python",
   "name": "python3"
  },
  "language_info": {
   "codemirror_mode": {
    "name": "ipython",
    "version": 3
   },
   "file_extension": ".py",
   "mimetype": "text/x-python",
   "name": "python",
   "nbconvert_exporter": "python",
   "pygments_lexer": "ipython3",
   "version": "3.9.12"
  }
 },
 "nbformat": 4,
 "nbformat_minor": 5
}
